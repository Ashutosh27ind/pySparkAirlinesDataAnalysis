{
 "cells": [
  {
   "cell_type": "code",
   "execution_count": 1,
   "metadata": {},
   "outputs": [],
   "source": [
    "# class pyspark.sql.SparkSession, The entry point to programming Spark with the Dataset and DataFrame API.\n",
    "\n",
    "from pyspark.sql import SparkSession\n",
    "\n",
    "spark = SparkSession \\\n",
    "    .builder \\\n",
    "    .appName(\"PySpark Airlines Data Analysis\") \\\n",
    "    .getOrCreate()"
   ]
  },
  {
   "cell_type": "code",
   "execution_count": 3,
   "metadata": {},
   "outputs": [],
   "source": [
    "# Creating dataframe from csv at the HDFS :\n",
    "\n",
    "airlines_df = spark.read.format(\"csv\").option(\"header\",\"true\").option(\"inferSchema\", \"true\")\\\n",
    ".load(\"/common_folder/airlines/data_2004-08.csv\")"
   ]
  },
  {
   "cell_type": "code",
   "execution_count": 5,
   "metadata": {},
   "outputs": [
    {
     "data": {
      "text/plain": [
       "Row(_c0=1, Year=2006, Month=1, DayofMonth=11, DayOfWeek=3, DepTime='743', CRSDepTime=745, ArrTime='1024', CRSArrTime=1018, UniqueCarrier='US', FlightNum=343, TailNum='N657AW', ActualElapsedTime='281', CRSElapsedTime=273, AirTime='223', ArrDelay='6', DepDelay='-2', Origin='ATL', Dest='PHX', Distance=1587, TaxiIn='45', TaxiOut='13', Cancelled=0, CancellationCode=None, Diverted=0, CarrierDelay='0', WeatherDelay='0', NASDelay='0', SecurityDelay='0', LateAircraftDelay='0')"
      ]
     },
     "execution_count": 5,
     "metadata": {},
     "output_type": "execute_result"
    }
   ],
   "source": [
    "# Checking the dataframe created:\n",
    "airlines_df.head()"
   ]
  },
  {
   "cell_type": "code",
   "execution_count": 8,
   "metadata": {},
   "outputs": [
    {
     "data": {
      "text/plain": [
       "DataFrame[_c0: int, Year: int, Month: int, DayofMonth: int, DayOfWeek: int, DepTime: string, CRSDepTime: int, ArrTime: string, CRSArrTime: int, UniqueCarrier: string, FlightNum: int, TailNum: string, ActualElapsedTime: string, CRSElapsedTime: int, AirTime: string, ArrDelay: string, DepDelay: string, Origin: string, Dest: string, Distance: int, TaxiIn: string, TaxiOut: string, Cancelled: int, CancellationCode: string, Diverted: int, CarrierDelay: string, WeatherDelay: string, NASDelay: string, SecurityDelay: string, LateAircraftDelay: string]"
      ]
     },
     "metadata": {},
     "output_type": "display_data"
    },
    {
     "name": "stdout",
     "output_type": "stream",
     "text": [
      "+---+----+-----+----------+---------+-------+----------+-------+----------+-------------+---------+-------+-----------------+--------------+-------+--------+--------+------+----+--------+------+-------+---------+----------------+--------+------------+------------+--------+-------------+-----------------+\n",
      "|_c0|Year|Month|DayofMonth|DayOfWeek|DepTime|CRSDepTime|ArrTime|CRSArrTime|UniqueCarrier|FlightNum|TailNum|ActualElapsedTime|CRSElapsedTime|AirTime|ArrDelay|DepDelay|Origin|Dest|Distance|TaxiIn|TaxiOut|Cancelled|CancellationCode|Diverted|CarrierDelay|WeatherDelay|NASDelay|SecurityDelay|LateAircraftDelay|\n",
      "+---+----+-----+----------+---------+-------+----------+-------+----------+-------------+---------+-------+-----------------+--------------+-------+--------+--------+------+----+--------+------+-------+---------+----------------+--------+------------+------------+--------+-------------+-----------------+\n",
      "|  7|2006|    1|        11|        3|    825|       820|   1041|      1021|           US|      349| N177UW|              136|           121|    111|      20|       5|   BDL| CLT|     644|     4|     21|        0|            null|       0|           0|           0|      20|            0|                0|\n",
      "| 16|2006|    1|        11|        3|   1342|      1340|   1509|      1455|           US|     1681| N808MD|               87|            75|     73|      14|       2|   BDL| DCA|     313|     4|     10|        0|            null|       0|           0|           0|       0|            0|                0|\n",
      "| 17|2006|    1|        11|        3|   1752|      1540|   1923|      1654|           US|      127| N105UW|               91|            74|     69|     149|     132|   BDL| PHL|     196|     3|     19|        0|            null|       0|           0|           0|     149|            0|                0|\n",
      "| 19|2006|    1|        11|        3|   1153|      1145|   1324|      1259|           US|      637| N702UW|               91|            74|     50|      25|       8|   BDL| PHL|     196|     3|     38|        0|            null|       0|           0|           0|      25|            0|                0|\n",
      "| 35|2006|    1|        11|        3|   1851|      1835|   2116|      2100|           US|      882| N621AU|              145|           145|    107|      16|      16|   BOS| CLT|     728|     4|     34|        0|            null|       0|           0|           0|       0|            0|               16|\n",
      "| 51|2006|    1|        11|        3|   1805|      1745|   1940|      1927|           US|     2045| N757UW|               95|           102|     79|      13|      20|   BOS| DCA|     399|     3|     13|        0|            null|       0|           0|           0|       0|            0|                0|\n",
      "| 52|2006|    1|        11|        3|   1905|      1845|   2104|      2027|           US|     2047| N713UW|              119|           102|     77|      37|      20|   BOS| DCA|     399|     3|     39|        0|            null|       0|          14|           0|      17|            0|                6|\n",
      "| 70|2006|    1|        11|        3|   1829|      1800|   1948|      1912|           US|     2139| N750UW|               79|            72|     55|      36|      29|   BOS| LGA|     185|     6|     18|        0|            null|       0|           0|          23|       7|            0|                6|\n",
      "| 72|2006|    1|        11|        3|   2142|      2000|   2251|      2110|           US|     2143| N730UW|               69|            70|     49|     101|     102|   BOS| LGA|     185|     5|     15|        0|            null|       0|           0|           0|      34|            0|               67|\n",
      "| 77|2006|    1|        11|        3|   2031|      1830|   2303|      2004|           US|      377| N512AU|              152|            94|     80|     179|     121|   BOS| PHL|     280|     2|     70|        0|            null|       0|           0|           0|      58|            0|              121|\n",
      "| 78|2006|    1|        11|        3|   1548|      1530|   1728|      1704|           US|      395| N121UW|              100|            94|     69|      24|      18|   BOS| PHL|     280|     4|     27|        0|            null|       0|           0|           0|       6|            0|               18|\n",
      "| 79|2006|    1|        11|        3|   1850|      1700|   2139|      1831|           US|      449| N505AU|              169|            91|    103|     188|     110|   BOS| PHL|     280|     4|     62|        0|            null|       0|           0|         107|      78|            0|                3|\n",
      "| 80|2006|    1|        11|        3|   1505|      1430|   1732|      1601|           US|      481| N742UW|              147|            91|    129|      91|      35|   BOS| PHL|     280|     3|     15|        0|            null|       0|           0|          35|      56|            0|                0|\n",
      "| 84|2006|    1|        11|        3|   1226|      1130|   1355|      1300|           US|      671| N716UW|               89|            90|     68|      55|      56|   BOS| PHL|     280|     8|     13|        0|            null|       0|           0|           0|      55|            0|                0|\n",
      "| 85|2006|    1|        11|        3|   1916|      1730|   2137|      1903|           US|      723| N619AU|              141|            93|    100|     154|     106|   BOS| PHL|     280|    10|     31|        0|            null|       0|           0|          72|      48|            0|               34|\n",
      "| 86|2006|    1|        11|        3|   2017|      1930|   2314|      2105|           US|      760| N748UW|              177|            95|     86|     129|      47|   BOS| PHL|     280|     3|     88|        0|            null|       0|           0|          14|      82|            0|               33|\n",
      "| 89|2006|    1|        11|        3|   1237|      1230|   1420|      1357|           US|     1035| N419US|              103|            87|     69|      23|       7|   BOS| PHL|     280|     9|     25|        0|            null|       0|           0|           7|      16|            0|                0|\n",
      "| 90|2006|    1|        11|        3|   2116|      2030|   2251|      2158|           US|     1097| N334US|               95|            88|     79|      53|      46|   BOS| PHL|     280|     3|     13|        0|            null|       0|           0|           0|       7|            0|               46|\n",
      "| 93|2006|    1|        11|        3|   1841|      1748|   2216|      2147|           US|      825| N603AW|              335|           359|    305|      29|      53|   BOS| PHX|    2300|     6|     24|        0|            null|       0|           0|           0|       0|            0|               29|\n",
      "| 95|2006|    1|        11|        3|   1824|      1805|   2012|      1956|           US|      139| N747UW|              108|           111|     83|      16|      19|   BOS| PIT|     496|     5|     20|        0|            null|       0|           0|           0|       0|            0|               16|\n",
      "+---+----+-----+----------+---------+-------+----------+-------+----------+-------------+---------+-------+-----------------+--------------+-------+--------+--------+------+----+--------+------+-------+---------+----------------+--------+------------+------------+--------+-------------+-----------------+\n",
      "only showing top 20 rows\n",
      "\n"
     ]
    }
   ],
   "source": [
    "# Filter the data to find the values where the ArrDelay and DeptDelay are greater than zero because time cannot be in negative.\n",
    "\n",
    "from pyspark.sql.functions import col, asc\n",
    "\n",
    "filterDF = airlines_df.filter((col(\"ArrDelay\") > 0) & (col(\"DepDelay\") > 0))\n",
    "display(filterDF)\n",
    "filterDF.show()"
   ]
  },
  {
   "cell_type": "code",
   "execution_count": 23,
   "metadata": {},
   "outputs": [
    {
     "name": "stdout",
     "output_type": "stream",
     "text": [
      "+----+------------------+\n",
      "|dest|mean_arrival_delay|\n",
      "+----+------------------+\n",
      "| BIL|             99.25|\n",
      "| MDT|              69.5|\n",
      "| ORD|  67.7074788902292|\n",
      "| GUC|              66.2|\n",
      "| GSO|            66.125|\n",
      "| DAY|             63.75|\n",
      "| CVG|62.774193548387096|\n",
      "| GRR|58.794871794871796|\n",
      "| DSM|58.017857142857146|\n",
      "| ATL|56.663716814159294|\n",
      "| OGG|              54.4|\n",
      "| IAH| 50.20524017467249|\n",
      "| EWR|49.515358361774744|\n",
      "| ICT|48.310344827586206|\n",
      "| SFO|47.056569343065696|\n",
      "| LGA|  46.1924882629108|\n",
      "| COS| 44.38461538461539|\n",
      "| MSP| 43.18939393939394|\n",
      "| PHL| 43.14143426294821|\n",
      "| GEG|  43.1139896373057|\n",
      "+----+------------------+\n",
      "only showing top 20 rows\n",
      "\n"
     ]
    }
   ],
   "source": [
    "# Apply 'groupby' on Destination and summarize by mean on arrival delay.\n",
    " # Sort it in a descending order to identify the airport with the highest arrival delay.\n",
    "    \n",
    "from pyspark.sql.functions import expr, desc\n",
    "\n",
    "agg_df = filterDF.groupby(\"dest\").agg(expr(\"mean(Arrdelay)\").alias(\"mean_arrival_delay\")).sort(desc(\"mean_arrival_delay\"))\n",
    "agg_df.show()"
   ]
  },
  {
   "cell_type": "code",
   "execution_count": 25,
   "metadata": {},
   "outputs": [
    {
     "name": "stdout",
     "output_type": "stream",
     "text": [
      "+----+--------------------+\n",
      "|dest|mean_departure_delay|\n",
      "+----+--------------------+\n",
      "| BIL|              100.25|\n",
      "| MDT|   76.66666666666667|\n",
      "| GSO|                71.7|\n",
      "| GUC|                69.6|\n",
      "| OGG|                59.3|\n",
      "| DAY|              59.275|\n",
      "| GRR|   56.46153846153846|\n",
      "| ATL|   56.35398230088496|\n",
      "| ORD|  56.274427020506636|\n",
      "| DSM|   55.69642857142857|\n",
      "| CVG|   55.45161290322581|\n",
      "| PWM|                49.0|\n",
      "| IAH|   48.98689956331878|\n",
      "| EWR|   48.13993174061434|\n",
      "| BTV|   46.76470588235294|\n",
      "| ICT|   45.37931034482759|\n",
      "| LGA|   44.64553990610329|\n",
      "| GEG|   42.73056994818653|\n",
      "| TUS|   42.24338624338624|\n",
      "| SFO|  42.051094890510946|\n",
      "+----+--------------------+\n",
      "only showing top 20 rows\n",
      "\n"
     ]
    }
   ],
   "source": [
    "# Apply 'groupby' on Destination and summarize by mean on departure delay.\n",
    " # Sort it in a descending order to identify the airport with the highest departure delay.\n",
    "\n",
    "from pyspark.sql.functions import expr, desc\n",
    "\n",
    "agg_df = filterDF.groupby(\"dest\").agg(expr(\"mean(depdelay)\").alias(\"mean_departure_delay\")).sort(desc(\"mean_departure_delay\"))\n",
    "agg_df.show()"
   ]
  },
  {
   "cell_type": "markdown",
   "metadata": {},
   "source": [
    "## Conclusion:\n",
    "On average, this airport seems to have the highest arrival as well as departure delay . Looks like they need to take some action about this! "
   ]
  }
 ],
 "metadata": {
  "kernelspec": {
   "display_name": "PySpark",
   "language": "python",
   "name": "pyspark"
  },
  "language_info": {
   "codemirror_mode": {
    "name": "ipython",
    "version": 3
   },
   "file_extension": ".py",
   "mimetype": "text/x-python",
   "name": "python",
   "nbconvert_exporter": "python",
   "pygments_lexer": "ipython3",
   "version": "3.6.5"
  }
 },
 "nbformat": 4,
 "nbformat_minor": 2
}
